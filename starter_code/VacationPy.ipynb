{
 "cells": [
  {
   "cell_type": "markdown",
   "metadata": {},
   "source": [
    "# VacationPy\n",
    "----\n",
    "\n",
    "#### Note\n",
    "* Keep an eye on your API usage. Use https://developers.google.com/maps/reporting/gmp-reporting as reference for how to monitor your usage and billing.\n",
    "\n",
    "* Instructions have been included for each segment. You do not have to follow them exactly, but they are included to help you think through the steps."
   ]
  },
  {
   "cell_type": "code",
   "execution_count": 1,
   "metadata": {},
   "outputs": [],
   "source": [
    "# Dependencies and Setup\n",
    "import matplotlib.pyplot as plt\n",
    "import pandas as pd\n",
    "import numpy as np\n",
    "import requests\n",
    "import gmaps\n",
    "import os\n",
    "\n",
    "# Import API key\n",
    "from api_keys import g_key\n",
    "# Configure the gmaps\n",
    "gmaps.configure(api_key = g_key)"
   ]
  },
  {
   "cell_type": "markdown",
   "metadata": {},
   "source": [
    "### Store Part I results into DataFrame\n",
    "* Load the csv exported in Part I to a DataFrame"
   ]
  },
  {
   "cell_type": "code",
   "execution_count": 2,
   "metadata": {},
   "outputs": [],
   "source": [
    "# File to Load \n",
    "file_to_load = \"../output_data/cities_weather.csv\"\n",
    "\n",
    "# Read File and store into Pandas data frame\n",
    "cities_df = pd.read_csv(file_to_load)\n"
   ]
  },
  {
   "cell_type": "code",
   "execution_count": 3,
   "metadata": {},
   "outputs": [
    {
     "data": {
      "text/html": [
       "<div>\n",
       "<style scoped>\n",
       "    .dataframe tbody tr th:only-of-type {\n",
       "        vertical-align: middle;\n",
       "    }\n",
       "\n",
       "    .dataframe tbody tr th {\n",
       "        vertical-align: top;\n",
       "    }\n",
       "\n",
       "    .dataframe thead th {\n",
       "        text-align: right;\n",
       "    }\n",
       "</style>\n",
       "<table border=\"1\" class=\"dataframe\">\n",
       "  <thead>\n",
       "    <tr style=\"text-align: right;\">\n",
       "      <th></th>\n",
       "      <th>Unnamed: 0</th>\n",
       "      <th>City</th>\n",
       "      <th>Latitude</th>\n",
       "      <th>Longitude</th>\n",
       "      <th>Max Temp</th>\n",
       "      <th>Humidity</th>\n",
       "      <th>Cloudiness</th>\n",
       "      <th>Wind Speed</th>\n",
       "      <th>Country</th>\n",
       "      <th>Date</th>\n",
       "    </tr>\n",
       "  </thead>\n",
       "  <tbody>\n",
       "    <tr>\n",
       "      <th>0</th>\n",
       "      <td>0</td>\n",
       "      <td>Nabire</td>\n",
       "      <td>-3.3667</td>\n",
       "      <td>135.4833</td>\n",
       "      <td>76.41</td>\n",
       "      <td>92</td>\n",
       "      <td>100</td>\n",
       "      <td>3.31</td>\n",
       "      <td>ID</td>\n",
       "      <td>1631625356</td>\n",
       "    </tr>\n",
       "    <tr>\n",
       "      <th>1</th>\n",
       "      <td>1</td>\n",
       "      <td>Capaci</td>\n",
       "      <td>38.1711</td>\n",
       "      <td>13.2393</td>\n",
       "      <td>90.52</td>\n",
       "      <td>62</td>\n",
       "      <td>20</td>\n",
       "      <td>1.99</td>\n",
       "      <td>IT</td>\n",
       "      <td>1631625357</td>\n",
       "    </tr>\n",
       "    <tr>\n",
       "      <th>2</th>\n",
       "      <td>2</td>\n",
       "      <td>San</td>\n",
       "      <td>13.3034</td>\n",
       "      <td>-4.8956</td>\n",
       "      <td>94.91</td>\n",
       "      <td>42</td>\n",
       "      <td>19</td>\n",
       "      <td>6.46</td>\n",
       "      <td>ML</td>\n",
       "      <td>1631625359</td>\n",
       "    </tr>\n",
       "    <tr>\n",
       "      <th>3</th>\n",
       "      <td>3</td>\n",
       "      <td>Pascagoula</td>\n",
       "      <td>30.3658</td>\n",
       "      <td>-88.5561</td>\n",
       "      <td>77.05</td>\n",
       "      <td>96</td>\n",
       "      <td>40</td>\n",
       "      <td>5.75</td>\n",
       "      <td>US</td>\n",
       "      <td>1631625360</td>\n",
       "    </tr>\n",
       "    <tr>\n",
       "      <th>4</th>\n",
       "      <td>4</td>\n",
       "      <td>Lompoc</td>\n",
       "      <td>34.6391</td>\n",
       "      <td>-120.4579</td>\n",
       "      <td>59.09</td>\n",
       "      <td>99</td>\n",
       "      <td>90</td>\n",
       "      <td>0.00</td>\n",
       "      <td>US</td>\n",
       "      <td>1631625361</td>\n",
       "    </tr>\n",
       "  </tbody>\n",
       "</table>\n",
       "</div>"
      ],
      "text/plain": [
       "   Unnamed: 0        City  Latitude  Longitude  Max Temp  Humidity  \\\n",
       "0           0      Nabire   -3.3667   135.4833     76.41        92   \n",
       "1           1      Capaci   38.1711    13.2393     90.52        62   \n",
       "2           2         San   13.3034    -4.8956     94.91        42   \n",
       "3           3  Pascagoula   30.3658   -88.5561     77.05        96   \n",
       "4           4      Lompoc   34.6391  -120.4579     59.09        99   \n",
       "\n",
       "   Cloudiness  Wind Speed Country        Date  \n",
       "0         100        3.31      ID  1631625356  \n",
       "1          20        1.99      IT  1631625357  \n",
       "2          19        6.46      ML  1631625359  \n",
       "3          40        5.75      US  1631625360  \n",
       "4          90        0.00      US  1631625361  "
      ]
     },
     "execution_count": 3,
     "metadata": {},
     "output_type": "execute_result"
    }
   ],
   "source": [
    "cities_df.head()"
   ]
  },
  {
   "cell_type": "markdown",
   "metadata": {},
   "source": [
    "### Humidity Heatmap\n",
    "* Configure gmaps.\n",
    "* Use the Lat and Lng as locations and Humidity as the weight.\n",
    "* Add Heatmap layer to map."
   ]
  },
  {
   "cell_type": "code",
   "execution_count": 4,
   "metadata": {},
   "outputs": [],
   "source": [
    "locations = cities_df[[\"Latitude\",\"Longitude\"]]\n",
    "humidity = cities_df[\"Humidity\"].astype(float)"
   ]
  },
  {
   "cell_type": "code",
   "execution_count": 5,
   "metadata": {},
   "outputs": [
    {
     "data": {
      "text/plain": [
       "100.0"
      ]
     },
     "execution_count": 5,
     "metadata": {},
     "output_type": "execute_result"
    }
   ],
   "source": [
    "max(humidity)"
   ]
  },
  {
   "cell_type": "code",
   "execution_count": 6,
   "metadata": {},
   "outputs": [
    {
     "data": {
      "application/vnd.jupyter.widget-view+json": {
       "model_id": "0236db6a62ae4d5db14f907b15751117",
       "version_major": 2,
       "version_minor": 0
      },
      "text/plain": [
       "Figure(layout=FigureLayout(height='600px', padding='1px', width='100%'))"
      ]
     },
     "metadata": {},
     "output_type": "display_data"
    }
   ],
   "source": [
    "# Plot Heatmap\n",
    "\n",
    "fig_layout = {\"width\": \"100%\",\n",
    "             \"height\": \"600px\",\n",
    "              \"padding\":\"1px\"}\n",
    "\n",
    "fig = gmaps.figure(layout = fig_layout, center =(20.0,10.0), zoom_level = 2)\n",
    "\n",
    "# Create heat layer\n",
    "heat_layer = gmaps.heatmap_layer(locations, weights=humidity, \n",
    "                                 dissipating=False,\n",
    "                                 max_intensity = max(humidity),\n",
    "                                 point_radius=4)\n",
    "\n",
    "\n",
    "# Add layer\n",
    "fig.add_layer(heat_layer)\n",
    "\n",
    "# Display figure\n",
    "fig"
   ]
  },
  {
   "cell_type": "markdown",
   "metadata": {},
   "source": [
    "### Create new DataFrame fitting weather criteria\n",
    "* Narrow down the cities to fit weather conditions.\n",
    "* Drop any rows will null values."
   ]
  },
  {
   "cell_type": "code",
   "execution_count": 7,
   "metadata": {},
   "outputs": [
    {
     "data": {
      "text/plain": [
       "(540, 10)"
      ]
     },
     "execution_count": 7,
     "metadata": {},
     "output_type": "execute_result"
    }
   ],
   "source": [
    "cities_df.shape"
   ]
  },
  {
   "cell_type": "code",
   "execution_count": 8,
   "metadata": {},
   "outputs": [
    {
     "data": {
      "text/plain": [
       "(178, 10)"
      ]
     },
     "execution_count": 8,
     "metadata": {},
     "output_type": "execute_result"
    }
   ],
   "source": [
    "#A max temperature lower than 80 degrees but higher than 65.\n",
    "weather_conditions_df = cities_df[(cities_df[\"Max Temp\"] >65) & (cities_df[\"Max Temp\"] <= 80)]\n",
    "\n",
    "weather_conditions_df.shape"
   ]
  },
  {
   "cell_type": "code",
   "execution_count": 9,
   "metadata": {},
   "outputs": [
    {
     "data": {
      "text/plain": [
       "(140, 10)"
      ]
     },
     "execution_count": 9,
     "metadata": {},
     "output_type": "execute_result"
    }
   ],
   "source": [
    "weather_conditions_df = weather_conditions_df[(weather_conditions_df[\"Wind Speed\"] < 11)]\n",
    "weather_conditions_df.shape"
   ]
  },
  {
   "cell_type": "code",
   "execution_count": 10,
   "metadata": {},
   "outputs": [
    {
     "data": {
      "text/plain": [
       "(10, 10)"
      ]
     },
     "execution_count": 10,
     "metadata": {},
     "output_type": "execute_result"
    }
   ],
   "source": [
    "# Zero cloudiness.\n",
    "weather_conditions_df = weather_conditions_df[(weather_conditions_df[\"Cloudiness\"] == 0)]\n",
    "weather_conditions_df.shape"
   ]
  },
  {
   "cell_type": "code",
   "execution_count": 67,
   "metadata": {},
   "outputs": [],
   "source": [
    "# #A max temperature lower than 80 degrees but higher than 65.\n",
    "# weather_conditions_df = cities_df[(cities_df[\"Max Temp\"] > 65) & (cities_df[\"Max Temp\"] <= 80)]\n",
    "\n",
    "# # Wind speed less than 11 mph.\n",
    "# weather_conditions_df = weather_conditions_df[(weather_conditions_df[\"Wind Speed\"] < 11)]\n",
    "\n",
    "# # Zero cloudiness.\n",
    "# weather_conditions_df = weather_conditions_df[(weather_conditions_df[\"Cloudiness\"] == 0)]"
   ]
  },
  {
   "cell_type": "code",
   "execution_count": 11,
   "metadata": {},
   "outputs": [
    {
     "data": {
      "text/plain": [
       "(10, 10)"
      ]
     },
     "execution_count": 11,
     "metadata": {},
     "output_type": "execute_result"
    }
   ],
   "source": [
    "#ideal weather condition data\n",
    "weather_conditions_df.shape"
   ]
  },
  {
   "cell_type": "code",
   "execution_count": null,
   "metadata": {},
   "outputs": [],
   "source": []
  },
  {
   "cell_type": "markdown",
   "metadata": {},
   "source": [
    "### Hotel Map\n",
    "* Store into variable named `hotel_df`.\n",
    "* Add a \"Hotel Name\" column to the DataFrame.\n",
    "* Set parameters to search for hotels with 5000 meters.\n",
    "* Hit the Google Places API for each city's coordinates.\n",
    "* Store the first Hotel result into the DataFrame.\n",
    "* Plot markers on top of the heatmap."
   ]
  },
  {
   "cell_type": "code",
   "execution_count": 12,
   "metadata": {},
   "outputs": [],
   "source": [
    "hotel_df = weather_conditions_df"
   ]
  },
  {
   "cell_type": "code",
   "execution_count": null,
   "metadata": {},
   "outputs": [],
   "source": []
  },
  {
   "cell_type": "code",
   "execution_count": 13,
   "metadata": {},
   "outputs": [
    {
     "data": {
      "text/html": [
       "<div>\n",
       "<style scoped>\n",
       "    .dataframe tbody tr th:only-of-type {\n",
       "        vertical-align: middle;\n",
       "    }\n",
       "\n",
       "    .dataframe tbody tr th {\n",
       "        vertical-align: top;\n",
       "    }\n",
       "\n",
       "    .dataframe thead th {\n",
       "        text-align: right;\n",
       "    }\n",
       "</style>\n",
       "<table border=\"1\" class=\"dataframe\">\n",
       "  <thead>\n",
       "    <tr style=\"text-align: right;\">\n",
       "      <th></th>\n",
       "      <th>Unnamed: 0</th>\n",
       "      <th>City</th>\n",
       "      <th>Latitude</th>\n",
       "      <th>Longitude</th>\n",
       "      <th>Max Temp</th>\n",
       "      <th>Humidity</th>\n",
       "      <th>Cloudiness</th>\n",
       "      <th>Wind Speed</th>\n",
       "      <th>Country</th>\n",
       "      <th>Date</th>\n",
       "    </tr>\n",
       "  </thead>\n",
       "  <tbody>\n",
       "    <tr>\n",
       "      <th>0</th>\n",
       "      <td>261</td>\n",
       "      <td>Nur-Sultan</td>\n",
       "      <td>51.1801</td>\n",
       "      <td>71.4460</td>\n",
       "      <td>66.15</td>\n",
       "      <td>34</td>\n",
       "      <td>0</td>\n",
       "      <td>8.95</td>\n",
       "      <td>KZ</td>\n",
       "      <td>1631625488</td>\n",
       "    </tr>\n",
       "    <tr>\n",
       "      <th>1</th>\n",
       "      <td>274</td>\n",
       "      <td>Yulara</td>\n",
       "      <td>-25.2406</td>\n",
       "      <td>130.9889</td>\n",
       "      <td>73.24</td>\n",
       "      <td>21</td>\n",
       "      <td>0</td>\n",
       "      <td>3.44</td>\n",
       "      <td>AU</td>\n",
       "      <td>1631625668</td>\n",
       "    </tr>\n",
       "    <tr>\n",
       "      <th>2</th>\n",
       "      <td>295</td>\n",
       "      <td>Kumul</td>\n",
       "      <td>42.8000</td>\n",
       "      <td>93.4500</td>\n",
       "      <td>78.64</td>\n",
       "      <td>19</td>\n",
       "      <td>0</td>\n",
       "      <td>8.34</td>\n",
       "      <td>CN</td>\n",
       "      <td>1631625684</td>\n",
       "    </tr>\n",
       "    <tr>\n",
       "      <th>3</th>\n",
       "      <td>301</td>\n",
       "      <td>Havelock</td>\n",
       "      <td>34.8791</td>\n",
       "      <td>-76.9013</td>\n",
       "      <td>79.95</td>\n",
       "      <td>92</td>\n",
       "      <td>0</td>\n",
       "      <td>1.99</td>\n",
       "      <td>US</td>\n",
       "      <td>1631625689</td>\n",
       "    </tr>\n",
       "    <tr>\n",
       "      <th>4</th>\n",
       "      <td>415</td>\n",
       "      <td>Enshi</td>\n",
       "      <td>30.3000</td>\n",
       "      <td>109.4833</td>\n",
       "      <td>72.10</td>\n",
       "      <td>82</td>\n",
       "      <td>0</td>\n",
       "      <td>1.57</td>\n",
       "      <td>CN</td>\n",
       "      <td>1631625520</td>\n",
       "    </tr>\n",
       "  </tbody>\n",
       "</table>\n",
       "</div>"
      ],
      "text/plain": [
       "   Unnamed: 0        City  Latitude  Longitude  Max Temp  Humidity  \\\n",
       "0         261  Nur-Sultan   51.1801    71.4460     66.15        34   \n",
       "1         274      Yulara  -25.2406   130.9889     73.24        21   \n",
       "2         295       Kumul   42.8000    93.4500     78.64        19   \n",
       "3         301    Havelock   34.8791   -76.9013     79.95        92   \n",
       "4         415       Enshi   30.3000   109.4833     72.10        82   \n",
       "\n",
       "   Cloudiness  Wind Speed Country        Date  \n",
       "0           0        8.95      KZ  1631625488  \n",
       "1           0        3.44      AU  1631625668  \n",
       "2           0        8.34      CN  1631625684  \n",
       "3           0        1.99      US  1631625689  \n",
       "4           0        1.57      CN  1631625520  "
      ]
     },
     "execution_count": 13,
     "metadata": {},
     "output_type": "execute_result"
    }
   ],
   "source": [
    "#Reset the index\n",
    "hotel_df.reset_index(inplace=True)\n",
    "hotel_df.drop(\"index\",axis=1,inplace=True)\n",
    "hotel_df.head()"
   ]
  },
  {
   "cell_type": "code",
   "execution_count": 14,
   "metadata": {},
   "outputs": [],
   "source": [
    "hotel_df['Hotel Name'] = \"\"\n",
    "for i, row in hotel_df.iterrows():\n",
    "#for i in hotel_df:\n",
    "    try:\n",
    "        #Build URL using the Google Maps AP1\n",
    "        base_url = \"https://maps.googleapis.com/maps/api/place/nearbysearch/json\"\n",
    "        #write params dict\n",
    "        params = {\n",
    "        \"keyword\": \"hotel\",\n",
    "        \"radius\": 5000,\n",
    "        \"key\": g_key,\n",
    "        }\n",
    "\n",
    "\n",
    "        lat = row['Latitude']\n",
    "        lng = row['Longitude']\n",
    "\n",
    "        params['location'] = f\"{lat}, {lng}\"\n",
    "\n",
    "        hotel_response = requests.get(base_url, params=params).json()\n",
    "        \n",
    "        hotel_df.loc[i, \"Hotel Name\"] = hotel_response[\"results\"][0][\"name\"]\n",
    "        \n",
    "    except IndexError:\n",
    "        \n",
    "        hotel_df.loc[i, \"Hotel Name\"] = \"NaN\"\n",
    "        "
   ]
  },
  {
   "cell_type": "code",
   "execution_count": 109,
   "metadata": {},
   "outputs": [],
   "source": []
  },
  {
   "cell_type": "code",
   "execution_count": 19,
   "metadata": {},
   "outputs": [
    {
     "data": {
      "text/html": [
       "<div>\n",
       "<style scoped>\n",
       "    .dataframe tbody tr th:only-of-type {\n",
       "        vertical-align: middle;\n",
       "    }\n",
       "\n",
       "    .dataframe tbody tr th {\n",
       "        vertical-align: top;\n",
       "    }\n",
       "\n",
       "    .dataframe thead th {\n",
       "        text-align: right;\n",
       "    }\n",
       "</style>\n",
       "<table border=\"1\" class=\"dataframe\">\n",
       "  <thead>\n",
       "    <tr style=\"text-align: right;\">\n",
       "      <th></th>\n",
       "      <th>Unnamed: 0</th>\n",
       "      <th>City</th>\n",
       "      <th>Latitude</th>\n",
       "      <th>Longitude</th>\n",
       "      <th>Max Temp</th>\n",
       "      <th>Humidity</th>\n",
       "      <th>Cloudiness</th>\n",
       "      <th>Wind Speed</th>\n",
       "      <th>Country</th>\n",
       "      <th>Date</th>\n",
       "      <th>Hotel Name</th>\n",
       "    </tr>\n",
       "  </thead>\n",
       "  <tbody>\n",
       "    <tr>\n",
       "      <th>0</th>\n",
       "      <td>261</td>\n",
       "      <td>Nur-Sultan</td>\n",
       "      <td>51.1801</td>\n",
       "      <td>71.4460</td>\n",
       "      <td>66.15</td>\n",
       "      <td>34</td>\n",
       "      <td>0</td>\n",
       "      <td>8.95</td>\n",
       "      <td>KZ</td>\n",
       "      <td>1631625488</td>\n",
       "      <td>Radisson Hotel, Astana</td>\n",
       "    </tr>\n",
       "    <tr>\n",
       "      <th>1</th>\n",
       "      <td>274</td>\n",
       "      <td>Yulara</td>\n",
       "      <td>-25.2406</td>\n",
       "      <td>130.9889</td>\n",
       "      <td>73.24</td>\n",
       "      <td>21</td>\n",
       "      <td>0</td>\n",
       "      <td>3.44</td>\n",
       "      <td>AU</td>\n",
       "      <td>1631625668</td>\n",
       "      <td>Sails in the Desert</td>\n",
       "    </tr>\n",
       "    <tr>\n",
       "      <th>2</th>\n",
       "      <td>295</td>\n",
       "      <td>Kumul</td>\n",
       "      <td>42.8000</td>\n",
       "      <td>93.4500</td>\n",
       "      <td>78.64</td>\n",
       "      <td>19</td>\n",
       "      <td>0</td>\n",
       "      <td>8.34</td>\n",
       "      <td>CN</td>\n",
       "      <td>1631625684</td>\n",
       "      <td>哈密环球大酒店</td>\n",
       "    </tr>\n",
       "    <tr>\n",
       "      <th>3</th>\n",
       "      <td>301</td>\n",
       "      <td>Havelock</td>\n",
       "      <td>34.8791</td>\n",
       "      <td>-76.9013</td>\n",
       "      <td>79.95</td>\n",
       "      <td>92</td>\n",
       "      <td>0</td>\n",
       "      <td>1.99</td>\n",
       "      <td>US</td>\n",
       "      <td>1631625689</td>\n",
       "      <td>Holiday Inn Express &amp; Suites Havelock NW-New B...</td>\n",
       "    </tr>\n",
       "    <tr>\n",
       "      <th>4</th>\n",
       "      <td>415</td>\n",
       "      <td>Enshi</td>\n",
       "      <td>30.3000</td>\n",
       "      <td>109.4833</td>\n",
       "      <td>72.10</td>\n",
       "      <td>82</td>\n",
       "      <td>0</td>\n",
       "      <td>1.57</td>\n",
       "      <td>CN</td>\n",
       "      <td>1631625520</td>\n",
       "      <td>Moevenpick Enshi</td>\n",
       "    </tr>\n",
       "    <tr>\n",
       "      <th>5</th>\n",
       "      <td>450</td>\n",
       "      <td>Bois-Guillaume</td>\n",
       "      <td>49.4602</td>\n",
       "      <td>1.1222</td>\n",
       "      <td>74.98</td>\n",
       "      <td>73</td>\n",
       "      <td>0</td>\n",
       "      <td>10.36</td>\n",
       "      <td>FR</td>\n",
       "      <td>1631625842</td>\n",
       "      <td>ibis budget Rouen Nord Isneauville</td>\n",
       "    </tr>\n",
       "    <tr>\n",
       "      <th>6</th>\n",
       "      <td>465</td>\n",
       "      <td>Seoul</td>\n",
       "      <td>37.5683</td>\n",
       "      <td>126.9778</td>\n",
       "      <td>74.77</td>\n",
       "      <td>57</td>\n",
       "      <td>0</td>\n",
       "      <td>8.05</td>\n",
       "      <td>KR</td>\n",
       "      <td>1631625703</td>\n",
       "      <td>Nine Tree Premier Hotel Myeongdong II</td>\n",
       "    </tr>\n",
       "    <tr>\n",
       "      <th>7</th>\n",
       "      <td>486</td>\n",
       "      <td>Skwierzyna</td>\n",
       "      <td>52.5991</td>\n",
       "      <td>15.5065</td>\n",
       "      <td>71.67</td>\n",
       "      <td>47</td>\n",
       "      <td>0</td>\n",
       "      <td>0.58</td>\n",
       "      <td>PL</td>\n",
       "      <td>1631625878</td>\n",
       "      <td>Dom nad Rzeką</td>\n",
       "    </tr>\n",
       "    <tr>\n",
       "      <th>8</th>\n",
       "      <td>520</td>\n",
       "      <td>Korla</td>\n",
       "      <td>41.7597</td>\n",
       "      <td>86.1469</td>\n",
       "      <td>77.32</td>\n",
       "      <td>22</td>\n",
       "      <td>0</td>\n",
       "      <td>7.43</td>\n",
       "      <td>CN</td>\n",
       "      <td>1631625913</td>\n",
       "      <td>The Garden Hotel Korla</td>\n",
       "    </tr>\n",
       "    <tr>\n",
       "      <th>9</th>\n",
       "      <td>522</td>\n",
       "      <td>Along</td>\n",
       "      <td>28.1667</td>\n",
       "      <td>94.7667</td>\n",
       "      <td>79.74</td>\n",
       "      <td>78</td>\n",
       "      <td>0</td>\n",
       "      <td>0.54</td>\n",
       "      <td>IN</td>\n",
       "      <td>1631625913</td>\n",
       "      <td>Hotel West</td>\n",
       "    </tr>\n",
       "  </tbody>\n",
       "</table>\n",
       "</div>"
      ],
      "text/plain": [
       "   Unnamed: 0            City  Latitude  Longitude  Max Temp  Humidity  \\\n",
       "0         261      Nur-Sultan   51.1801    71.4460     66.15        34   \n",
       "1         274          Yulara  -25.2406   130.9889     73.24        21   \n",
       "2         295           Kumul   42.8000    93.4500     78.64        19   \n",
       "3         301        Havelock   34.8791   -76.9013     79.95        92   \n",
       "4         415           Enshi   30.3000   109.4833     72.10        82   \n",
       "5         450  Bois-Guillaume   49.4602     1.1222     74.98        73   \n",
       "6         465           Seoul   37.5683   126.9778     74.77        57   \n",
       "7         486      Skwierzyna   52.5991    15.5065     71.67        47   \n",
       "8         520           Korla   41.7597    86.1469     77.32        22   \n",
       "9         522           Along   28.1667    94.7667     79.74        78   \n",
       "\n",
       "   Cloudiness  Wind Speed Country        Date  \\\n",
       "0           0        8.95      KZ  1631625488   \n",
       "1           0        3.44      AU  1631625668   \n",
       "2           0        8.34      CN  1631625684   \n",
       "3           0        1.99      US  1631625689   \n",
       "4           0        1.57      CN  1631625520   \n",
       "5           0       10.36      FR  1631625842   \n",
       "6           0        8.05      KR  1631625703   \n",
       "7           0        0.58      PL  1631625878   \n",
       "8           0        7.43      CN  1631625913   \n",
       "9           0        0.54      IN  1631625913   \n",
       "\n",
       "                                          Hotel Name  \n",
       "0                             Radisson Hotel, Astana  \n",
       "1                                Sails in the Desert  \n",
       "2                                            哈密环球大酒店  \n",
       "3  Holiday Inn Express & Suites Havelock NW-New B...  \n",
       "4                                   Moevenpick Enshi  \n",
       "5                 ibis budget Rouen Nord Isneauville  \n",
       "6              Nine Tree Premier Hotel Myeongdong II  \n",
       "7                                      Dom nad Rzeką  \n",
       "8                             The Garden Hotel Korla  \n",
       "9                                         Hotel West  "
      ]
     },
     "execution_count": 19,
     "metadata": {},
     "output_type": "execute_result"
    }
   ],
   "source": [
    "hotel_df.head(20)"
   ]
  },
  {
   "cell_type": "code",
   "execution_count": null,
   "metadata": {},
   "outputs": [],
   "source": []
  },
  {
   "cell_type": "code",
   "execution_count": 15,
   "metadata": {},
   "outputs": [],
   "source": [
    "# NOTE: Do not change any of the code in this cell\n",
    "\n",
    "# Using the template add the hotel marks to the heatmap\n",
    "info_box_template = \"\"\"\n",
    "<dl>\n",
    "<dt>Name</dt><dd>{Hotel Name}</dd>\n",
    "<dt>City</dt><dd>{City}</dd>\n",
    "<dt>Country</dt><dd>{Country}</dd>\n",
    "</dl>\n",
    "\"\"\"\n",
    "# Store the DataFrame Row\n",
    "# NOTE: be sure to update with your DataFrame name\n",
    "hotel_info = [info_box_template.format(**row) for index, row in hotel_df.iterrows()]\n",
    "locations = hotel_df[[\"Latitude\", \"Longitude\"]]"
   ]
  },
  {
   "cell_type": "code",
   "execution_count": null,
   "metadata": {},
   "outputs": [],
   "source": []
  },
  {
   "cell_type": "code",
   "execution_count": 16,
   "metadata": {},
   "outputs": [
    {
     "data": {
      "application/vnd.jupyter.widget-view+json": {
       "model_id": "3e2177b6941e439282fb7e1aed8a5f0a",
       "version_major": 2,
       "version_minor": 0
      },
      "text/plain": [
       "Figure(layout=FigureLayout(height='600px', padding='1px', width='100%'))"
      ]
     },
     "metadata": {},
     "output_type": "display_data"
    }
   ],
   "source": [
    "# Plot Heatmap\n",
    "humidity=hotel_df[\"Humidity\"].astype(float)\n",
    "fig_layout = {\"width\": \"100%\",\n",
    "             \"height\": \"600px\",\n",
    "              \"padding\":\"1px\"}\n",
    "\n",
    "fig = gmaps.figure(layout = fig_layout, center =(20.0,10.0), zoom_level = 2)\n",
    "\n",
    "# Create heat layer\n",
    "heat_layer = gmaps.heatmap_layer(locations, weights=humidity, \n",
    "                                 dissipating=False,\n",
    "                                 max_intensity = max(humidity),\n",
    "                                 point_radius=4)\n",
    "\n",
    "\n",
    "# Add layer\n",
    "fig.add_layer(heat_layer)\n",
    "\n",
    "# Display figure\n",
    "fig"
   ]
  },
  {
   "cell_type": "code",
   "execution_count": null,
   "metadata": {},
   "outputs": [],
   "source": []
  },
  {
   "cell_type": "code",
   "execution_count": 17,
   "metadata": {},
   "outputs": [
    {
     "data": {
      "application/vnd.jupyter.widget-view+json": {
       "model_id": "3e2177b6941e439282fb7e1aed8a5f0a",
       "version_major": 2,
       "version_minor": 0
      },
      "text/plain": [
       "Figure(layout=FigureLayout(height='600px', padding='1px', width='100%'))"
      ]
     },
     "metadata": {},
     "output_type": "display_data"
    }
   ],
   "source": [
    "# Add marker layer ontop of heat map\n",
    "markers = gmaps.marker_layer(locations, info_box_content=hotel_info)\n",
    "fig.add_layer(markers)\n",
    "fig\n",
    "\n",
    "# Display figure\n"
   ]
  },
  {
   "cell_type": "code",
   "execution_count": null,
   "metadata": {},
   "outputs": [],
   "source": []
  }
 ],
 "metadata": {
  "kernelspec": {
   "display_name": "Python 3",
   "language": "python",
   "name": "python3"
  },
  "language_info": {
   "codemirror_mode": {
    "name": "ipython",
    "version": 3
   },
   "file_extension": ".py",
   "mimetype": "text/x-python",
   "name": "python",
   "nbconvert_exporter": "python",
   "pygments_lexer": "ipython3",
   "version": "3.8.8"
  },
  "latex_envs": {
   "LaTeX_envs_menu_present": true,
   "autoclose": false,
   "autocomplete": true,
   "bibliofile": "biblio.bib",
   "cite_by": "apalike",
   "current_citInitial": 1,
   "eqLabelWithNumbers": true,
   "eqNumInitial": 1,
   "hotkeys": {
    "equation": "Ctrl-E",
    "itemize": "Ctrl-I"
   },
   "labels_anchors": false,
   "latex_user_defs": false,
   "report_style_numbering": false,
   "user_envs_cfg": false
  }
 },
 "nbformat": 4,
 "nbformat_minor": 4
}
